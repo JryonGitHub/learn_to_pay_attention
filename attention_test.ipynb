{
 "cells": [
  {
   "cell_type": "code",
   "execution_count": 1,
   "metadata": {
    "collapsed": true
   },
   "outputs": [],
   "source": [
    "import tensorflow as tf"
   ]
  },
  {
   "cell_type": "code",
   "execution_count": 2,
   "metadata": {},
   "outputs": [],
   "source": [
    "sess = tf.Session()"
   ]
  },
  {
   "cell_type": "code",
   "execution_count": 3,
   "metadata": {},
   "outputs": [],
   "source": [
    "bs = 4\n",
    "n = 9\n",
    "m = 3\n",
    "a = tf.random_normal((bs, n, m))\n",
    "b = tf.random_normal((bs, m))"
   ]
  },
  {
   "cell_type": "code",
   "execution_count": 10,
   "metadata": {},
   "outputs": [
    {
     "data": {
      "text/plain": [
       "(4, 9, 1)"
      ]
     },
     "execution_count": 10,
     "metadata": {},
     "output_type": "execute_result"
    }
   ],
   "source": [
    "sess.run(tf.matmul(a, tf.expand_dims(b, -1))).shape"
   ]
  },
  {
   "cell_type": "code",
   "execution_count": null,
   "metadata": {},
   "outputs": [],
   "source": [
    "c = tf.random_normal((bs, n, m))\n",
    "d = tf.random_normal((bs, m))\n"
   ]
  },
  {
   "cell_type": "code",
   "execution_count": null,
   "metadata": {},
   "outputs": [],
   "source": [
    "\n"
   ]
  },
  {
   "cell_type": "code",
   "execution_count": 15,
   "metadata": {},
   "outputs": [
    {
     "data": {
      "text/plain": [
       "<tf.Tensor 'concat_1:0' shape=(4, 6) dtype=float32>"
      ]
     },
     "execution_count": 15,
     "metadata": {},
     "output_type": "execute_result"
    }
   ],
   "source": [
    "tf.concat([b, d], axis=-1)"
   ]
  },
  {
   "cell_type": "code",
   "execution_count": 30,
   "metadata": {},
   "outputs": [],
   "source": [
    "def attention_estimator(x, g, with_a=True):\n",
    "    with tf.variable_scope(None, 'attention_estimator'):\n",
    "        x_dim = x.get_shape().as_list()[-1]\n",
    "        g_dim = g.get_shape().as_list()[-1]\n",
    "    \n",
    "        if not x_dim == g_dim:\n",
    "            w = tf.get_variable('w',\n",
    "                                (x_dim, g_dim),\n",
    "                                initializer=tf.truncated_normal_initializer(stddev=0.02))\n",
    "            x = tf.matmul(x, w)\n",
    "    \n",
    "        c = tf.squeeze(tf.matmul(x, tf.expand_dims(g, -1)), -1)\n",
    "        a = tf.nn.softmax(c)\n",
    "        g_out = x * tf.expand_dims(a, -1)\n",
    "        g_out = tf.reduce_sum(g_out, -1)\n",
    "        if with_a:\n",
    "            return g_out, a\n",
    "        else:\n",
    "            return g_out"
   ]
  },
  {
   "cell_type": "code",
   "execution_count": 31,
   "metadata": {},
   "outputs": [
    {
     "data": {
      "text/plain": [
       "(<tf.Tensor 'attention_estimator_7/Sum:0' shape=(4, 9) dtype=float32>,\n <tf.Tensor 'attention_estimator_7/Softmax:0' shape=(4, 9) dtype=float32>)"
      ]
     },
     "execution_count": 31,
     "metadata": {},
     "output_type": "execute_result"
    }
   ],
   "source": [
    "attention_estimator(a, b)"
   ]
  },
  {
   "cell_type": "code",
   "execution_count": 24,
   "metadata": {},
   "outputs": [],
   "source": []
  },
  {
   "cell_type": "code",
   "execution_count": null,
   "metadata": {},
   "outputs": [],
   "source": []
  }
 ],
 "metadata": {
  "kernelspec": {
   "display_name": "Python 2",
   "language": "python",
   "name": "python2"
  },
  "language_info": {
   "codemirror_mode": {
    "name": "ipython",
    "version": 2
   },
   "file_extension": ".py",
   "mimetype": "text/x-python",
   "name": "python",
   "nbconvert_exporter": "python",
   "pygments_lexer": "ipython2",
   "version": "2.7.6"
  }
 },
 "nbformat": 4,
 "nbformat_minor": 0
}
